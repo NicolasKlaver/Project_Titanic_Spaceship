{
 "cells": [
  {
   "cell_type": "markdown",
   "id": "08d7845f",
   "metadata": {},
   "source": [
    "# Handling Missing Values"
   ]
  },
  {
   "cell_type": "code",
   "execution_count": null,
   "id": "46b0d124",
   "metadata": {},
   "outputs": [],
   "source": [
    "import import_ipynb\n",
    "from Spaceship_Titanic_P2 import *"
   ]
  },
  {
   "cell_type": "markdown",
   "id": "bad991d6",
   "metadata": {},
   "source": [
    "## HomePlanet"
   ]
  },
  {
   "cell_type": "markdown",
   "id": "7eb927bc",
   "metadata": {},
   "source": [
    "### HomePlanet and Group"
   ]
  },
  {
   "cell_type": "code",
   "execution_count": 67,
   "id": "894ea5fe",
   "metadata": {},
   "outputs": [
    {
     "data": {
      "text/html": [
       "<div>\n",
       "<style scoped>\n",
       "    .dataframe tbody tr th:only-of-type {\n",
       "        vertical-align: middle;\n",
       "    }\n",
       "\n",
       "    .dataframe tbody tr th {\n",
       "        vertical-align: top;\n",
       "    }\n",
       "\n",
       "    .dataframe thead th {\n",
       "        text-align: right;\n",
       "    }\n",
       "</style>\n",
       "<table border=\"1\" class=\"dataframe\">\n",
       "  <thead>\n",
       "    <tr style=\"text-align: right;\">\n",
       "      <th>HomePlanet</th>\n",
       "      <th>Earth</th>\n",
       "      <th>Europa</th>\n",
       "      <th>Mars</th>\n",
       "    </tr>\n",
       "    <tr>\n",
       "      <th>Group</th>\n",
       "      <th></th>\n",
       "      <th></th>\n",
       "      <th></th>\n",
       "    </tr>\n",
       "  </thead>\n",
       "  <tbody>\n",
       "    <tr>\n",
       "      <th>1</th>\n",
       "      <td>0.0</td>\n",
       "      <td>1.0</td>\n",
       "      <td>0.0</td>\n",
       "    </tr>\n",
       "    <tr>\n",
       "      <th>2</th>\n",
       "      <td>1.0</td>\n",
       "      <td>0.0</td>\n",
       "      <td>0.0</td>\n",
       "    </tr>\n",
       "    <tr>\n",
       "      <th>3</th>\n",
       "      <td>0.0</td>\n",
       "      <td>2.0</td>\n",
       "      <td>0.0</td>\n",
       "    </tr>\n",
       "    <tr>\n",
       "      <th>4</th>\n",
       "      <td>1.0</td>\n",
       "      <td>0.0</td>\n",
       "      <td>0.0</td>\n",
       "    </tr>\n",
       "    <tr>\n",
       "      <th>5</th>\n",
       "      <td>1.0</td>\n",
       "      <td>0.0</td>\n",
       "      <td>0.0</td>\n",
       "    </tr>\n",
       "  </tbody>\n",
       "</table>\n",
       "</div>"
      ],
      "text/plain": [
       "HomePlanet  Earth  Europa  Mars\n",
       "Group                          \n",
       "1             0.0     1.0   0.0\n",
       "2             1.0     0.0   0.0\n",
       "3             0.0     2.0   0.0\n",
       "4             1.0     0.0   0.0\n",
       "5             1.0     0.0   0.0"
      ]
     },
     "execution_count": 67,
     "metadata": {},
     "output_type": "execute_result"
    }
   ],
   "source": [
    "# Joint distribution of Group and HomePlanet\n",
    "GHP_gb=data.groupby(['Group','HomePlanet'])['HomePlanet'].size().unstack().fillna(0)\n",
    "GHP_gb.head()"
   ]
  },
  {
   "cell_type": "code",
   "execution_count": 68,
   "id": "8d961232",
   "metadata": {},
   "outputs": [
    {
     "data": {
      "text/plain": [
       "Text(0.5, 1.0, 'Number of unique home planets per group')"
      ]
     },
     "execution_count": 68,
     "metadata": {},
     "output_type": "execute_result"
    },
    {
     "data": {
      "image/png": "[encoded data removed]",
      "text/plain": [
       "<Figure size 432x288 with 1 Axes>"
      ]
     },
     "metadata": {},
     "output_type": "display_data"
    }
   ],
   "source": [
    "# Countplot of unique values\n",
    "sns.countplot((GHP_gb>0).sum(axis=1))\n",
    "plt.title('Number of unique home planets per group')"
   ]
  },
  {
   "cell_type": "markdown",
   "id": "bf9a041e",
   "metadata": {},
   "source": [
    "**This shows that everyone in the same group comes from the same home planet.**\n",
    "- So we can fill the missing HomePlanet values according to the group. (At least the ones where the group size is bigger than 1.)"
   ]
  },
  {
   "cell_type": "code",
   "execution_count": 69,
   "id": "cf30bc6d",
   "metadata": {},
   "outputs": [
    {
     "name": "stdout",
     "output_type": "stream",
     "text": [
      "#HomePlanet missing values before: 288\n",
      "#HomePlanet missing values after: 157\n"
     ]
    }
   ],
   "source": [
    "# Missing values before\n",
    "HP_bef=data['HomePlanet'].isna().sum()\n",
    "\n",
    "# Passengers with missing HomePlanet and in a group with known HomePlanet\n",
    "GHP_index=data[data['HomePlanet'].isna()][(data[data['HomePlanet'].isna()]['Group']).isin(GHP_gb.index)].index\n",
    "\n",
    "# Fill corresponding missing values\n",
    "data.loc[GHP_index,'HomePlanet']=data.iloc[GHP_index,:]['Group'].map(lambda x: GHP_gb.idxmax(axis=1)[x])\n",
    "\n",
    "# Print number of missing values left\n",
    "print('#HomePlanet missing values before:',HP_bef)\n",
    "print('#HomePlanet missing values after:',data['HomePlanet'].isna().sum())"
   ]
  },
  {
   "cell_type": "markdown",
   "id": "de79c6f4",
   "metadata": {},
   "source": [
    "**We managed to fill 131 values with 100% confidence.**"
   ]
  },
  {
   "cell_type": "markdown",
   "id": "f30421cd",
   "metadata": {},
   "source": [
    "### HomePlanet and CabinDeck"
   ]
  },
  {
   "cell_type": "code",
   "execution_count": 70,
   "id": "dfd46f98",
   "metadata": {},
   "outputs": [
    {
     "data": {
      "text/plain": [
       "<AxesSubplot:xlabel='Cabin_deck', ylabel='HomePlanet'>"
      ]
     },
     "execution_count": 70,
     "metadata": {},
     "output_type": "execute_result"
    },
    {
     "data": {
      "image/png": "[encoded data removed]",
      "text/plain": [
       "<Figure size 720x288 with 2 Axes>"
      ]
     },
     "metadata": {},
     "output_type": "display_data"
    }
   ],
   "source": [
    "# Joint distribution of CabinDeck and HomePlanet\n",
    "CDHP_gb=data.groupby(['Cabin_deck','HomePlanet'])['HomePlanet'].size().unstack().fillna(0)\n",
    "\n",
    "# Heatmap of missing values\n",
    "plt.figure(figsize=(10,4))\n",
    "sns.heatmap(CDHP_gb.T, annot=True, fmt='g', cmap='coolwarm')"
   ]
  },
  {
   "cell_type": "markdown",
   "id": "d663fc40",
   "metadata": {},
   "source": [
    "#### Notes:\n",
    "- Passengers on decks A, B, C or T came from Europa.\n",
    "- Passengers on deck G came from Earth.\n",
    "- Passengers on decks D, E or F came from multiple planets."
   ]
  },
  {
   "cell_type": "code",
   "execution_count": 71,
   "id": "343988eb",
   "metadata": {},
   "outputs": [
    {
     "name": "stdout",
     "output_type": "stream",
     "text": [
      "#HomePlanet missing values before: 157\n",
      "#HomePlanet missing values after: 94\n"
     ]
    }
   ],
   "source": [
    "# Missing values before\n",
    "HP_bef=data['HomePlanet'].isna().sum()\n",
    "\n",
    "# Decks A, B, C or T came from Europa\n",
    "data.loc[(data['HomePlanet'].isna()) & (data['Cabin_deck'].isin(['A', 'B', 'C', 'T'])), 'HomePlanet']='Europa'\n",
    "\n",
    "# Deck G came from Earth\n",
    "data.loc[(data['HomePlanet'].isna()) & (data['Cabin_deck']=='G'), 'HomePlanet']='Earth'\n",
    "\n",
    "# Print number of missing values left\n",
    "print('#HomePlanet missing values before:',HP_bef)\n",
    "print('#HomePlanet missing values after:',data['HomePlanet'].isna().sum())"
   ]
  },
  {
   "cell_type": "markdown",
   "id": "aa1ca181",
   "metadata": {},
   "source": [
    "### HomePlanet and Surname"
   ]
  },
  {
   "cell_type": "code",
   "execution_count": 72,
   "id": "385d0deb",
   "metadata": {},
   "outputs": [
    {
     "data": {
      "text/plain": [
       "Text(0.5, 1.0, 'Number of unique planets per surname')"
      ]
     },
     "execution_count": 72,
     "metadata": {},
     "output_type": "execute_result"
    },
    {
     "data": {
      "image/png": "[encoded data removed]",
      "text/plain": [
       "<Figure size 720x288 with 1 Axes>"
      ]
     },
     "metadata": {},
     "output_type": "display_data"
    }
   ],
   "source": [
    "# Joint distribution of Surname and HomePlanet\n",
    "SHP_gb=data.groupby(['Surname','HomePlanet'])['HomePlanet'].size().unstack().fillna(0)\n",
    "\n",
    "# Countplot of unique values\n",
    "plt.figure(figsize=(10,4))\n",
    "sns.countplot((SHP_gb>0).sum(axis=1))\n",
    "plt.title('Number of unique planets per surname')"
   ]
  },
  {
   "cell_type": "markdown",
   "id": "39dd9a5b",
   "metadata": {},
   "source": [
    "**Everyone with the same surname comes from the same home planet.**"
   ]
  },
  {
   "cell_type": "code",
   "execution_count": 73,
   "id": "b37c5052",
   "metadata": {},
   "outputs": [
    {
     "name": "stdout",
     "output_type": "stream",
     "text": [
      "#HomePlanet missing values before: 94\n",
      "#HomePlanet missing values after: 10\n"
     ]
    }
   ],
   "source": [
    "# Missing values before\n",
    "HP_bef=data['HomePlanet'].isna().sum()\n",
    "\n",
    "# Passengers with missing HomePlanet and in a family with known HomePlanet\n",
    "SHP_index=data[data['HomePlanet'].isna()][(data[data['HomePlanet'].isna()]['Surname']).isin(SHP_gb.index)].index\n",
    "\n",
    "# Fill corresponding missing values\n",
    "data.loc[SHP_index,'HomePlanet']=data.iloc[SHP_index,:]['Surname'].map(lambda x: SHP_gb.idxmax(axis=1)[x])\n",
    "\n",
    "# Print number of missing values left\n",
    "print('#HomePlanet missing values before:',HP_bef)\n",
    "print('#HomePlanet missing values after:',data['HomePlanet'].isna().sum())"
   ]
  },
  {
   "cell_type": "code",
   "execution_count": 74,
   "id": "b7685d55",
   "metadata": {},
   "outputs": [
    {
     "data": {
      "text/html": [
       "<div>\n",
       "<style scoped>\n",
       "    .dataframe tbody tr th:only-of-type {\n",
       "        vertical-align: middle;\n",
       "    }\n",
       "\n",
       "    .dataframe tbody tr th {\n",
       "        vertical-align: top;\n",
       "    }\n",
       "\n",
       "    .dataframe thead th {\n",
       "        text-align: right;\n",
       "    }\n",
       "</style>\n",
       "<table border=\"1\" class=\"dataframe\">\n",
       "  <thead>\n",
       "    <tr style=\"text-align: right;\">\n",
       "      <th></th>\n",
       "      <th>PassengerId</th>\n",
       "      <th>HomePlanet</th>\n",
       "      <th>Destination</th>\n",
       "    </tr>\n",
       "  </thead>\n",
       "  <tbody>\n",
       "    <tr>\n",
       "      <th>2274</th>\n",
       "      <td>2443_01</td>\n",
       "      <td>NaN</td>\n",
       "      <td>TRAPPIST-1e</td>\n",
       "    </tr>\n",
       "    <tr>\n",
       "      <th>2631</th>\n",
       "      <td>2817_01</td>\n",
       "      <td>NaN</td>\n",
       "      <td>TRAPPIST-1e</td>\n",
       "    </tr>\n",
       "    <tr>\n",
       "      <th>3091</th>\n",
       "      <td>3331_01</td>\n",
       "      <td>NaN</td>\n",
       "      <td>TRAPPIST-1e</td>\n",
       "    </tr>\n",
       "    <tr>\n",
       "      <th>4548</th>\n",
       "      <td>4840_01</td>\n",
       "      <td>NaN</td>\n",
       "      <td>TRAPPIST-1e</td>\n",
       "    </tr>\n",
       "    <tr>\n",
       "      <th>5762</th>\n",
       "      <td>6108_01</td>\n",
       "      <td>NaN</td>\n",
       "      <td>TRAPPIST-1e</td>\n",
       "    </tr>\n",
       "    <tr>\n",
       "      <th>8969</th>\n",
       "      <td>0616_01</td>\n",
       "      <td>NaN</td>\n",
       "      <td>TRAPPIST-1e</td>\n",
       "    </tr>\n",
       "    <tr>\n",
       "      <th>10583</th>\n",
       "      <td>4052_01</td>\n",
       "      <td>NaN</td>\n",
       "      <td>TRAPPIST-1e</td>\n",
       "    </tr>\n",
       "    <tr>\n",
       "      <th>11913</th>\n",
       "      <td>7065_01</td>\n",
       "      <td>NaN</td>\n",
       "      <td>TRAPPIST-1e</td>\n",
       "    </tr>\n",
       "    <tr>\n",
       "      <th>12551</th>\n",
       "      <td>8435_01</td>\n",
       "      <td>NaN</td>\n",
       "      <td>TRAPPIST-1e</td>\n",
       "    </tr>\n",
       "    <tr>\n",
       "      <th>12725</th>\n",
       "      <td>8775_01</td>\n",
       "      <td>NaN</td>\n",
       "      <td>TRAPPIST-1e</td>\n",
       "    </tr>\n",
       "  </tbody>\n",
       "</table>\n",
       "</div>"
      ],
      "text/plain": [
       "      PassengerId HomePlanet  Destination\n",
       "2274      2443_01        NaN  TRAPPIST-1e\n",
       "2631      2817_01        NaN  TRAPPIST-1e\n",
       "3091      3331_01        NaN  TRAPPIST-1e\n",
       "4548      4840_01        NaN  TRAPPIST-1e\n",
       "5762      6108_01        NaN  TRAPPIST-1e\n",
       "8969      0616_01        NaN  TRAPPIST-1e\n",
       "10583     4052_01        NaN  TRAPPIST-1e\n",
       "11913     7065_01        NaN  TRAPPIST-1e\n",
       "12551     8435_01        NaN  TRAPPIST-1e\n",
       "12725     8775_01        NaN  TRAPPIST-1e"
      ]
     },
     "execution_count": 74,
     "metadata": {},
     "output_type": "execute_result"
    }
   ],
   "source": [
    "# Only 10 HomePlanet missing values left - let's look at them\n",
    "data[data['HomePlanet'].isna()][['PassengerId','HomePlanet','Destination']]"
   ]
  },
  {
   "cell_type": "markdown",
   "id": "dbca1e5a",
   "metadata": {},
   "source": [
    "#### Notes: \n",
    "- Everyone left is heading towards TRAPPIST-1e. 0\n",
    "- So let's look at the joint distribution of HomePlanet and Destination."
   ]
  },
  {
   "cell_type": "markdown",
   "id": "17aada83",
   "metadata": {},
   "source": [
    "### HomePlanet and Destination"
   ]
  },
  {
   "cell_type": "code",
   "execution_count": 75,
   "id": "6d4968ca",
   "metadata": {},
   "outputs": [
    {
     "data": {
      "text/plain": [
       "<AxesSubplot:xlabel='HomePlanet', ylabel='Destination'>"
      ]
     },
     "execution_count": 75,
     "metadata": {},
     "output_type": "execute_result"
    },
    {
     "data": {
      "image/png": "[encoded data removed]",
      "text/plain": [
       "<Figure size 720x288 with 2 Axes>"
      ]
     },
     "metadata": {},
     "output_type": "display_data"
    }
   ],
   "source": [
    "# Joint distribution of HomePlanet and Destination\n",
    "HPD_gb=data.groupby(['HomePlanet','Destination'])['Destination'].size().unstack().fillna(0)\n",
    "\n",
    "# Heatmap of missing values\n",
    "plt.figure(figsize=(10,4))\n",
    "sns.heatmap(HPD_gb.T, annot=True, fmt='g', cmap='coolwarm')"
   ]
  },
  {
   "cell_type": "markdown",
   "id": "851943f5",
   "metadata": {},
   "source": [
    "#### Notes:\n",
    "- Most people heading towards TRAPPIST-1e came from Earth so it makes sense to guess they came from there. \n",
    "- But remember from earlier, no one on deck D came from Earth so we need to filter these out."
   ]
  },
  {
   "cell_type": "code",
   "execution_count": 76,
   "id": "e4f58933",
   "metadata": {},
   "outputs": [
    {
     "name": "stdout",
     "output_type": "stream",
     "text": [
      "#HomePlanet missing values before: 10\n",
      "#HomePlanet missing values after: 0\n"
     ]
    }
   ],
   "source": [
    "# Missing values before\n",
    "HP_bef=data['HomePlanet'].isna().sum()\n",
    "\n",
    "# Fill remaining HomePlanet missing values with Earth (if not on deck D) or Mars (if on Deck D)\n",
    "data.loc[(data['HomePlanet'].isna()) & ~(data['Cabin_deck']=='D'), 'HomePlanet']='Earth'\n",
    "data.loc[(data['HomePlanet'].isna()) & (data['Cabin_deck']=='D'), 'HomePlanet']='Mars'\n",
    "\n",
    "# Print number of missing values left\n",
    "print('#HomePlanet missing values before:',HP_bef)\n",
    "print('#HomePlanet missing values after:',data['HomePlanet'].isna().sum())"
   ]
  },
  {
   "cell_type": "markdown",
   "id": "7876934f",
   "metadata": {},
   "source": [
    "**We're done with HomePlanet.**"
   ]
  },
  {
   "cell_type": "markdown",
   "id": "7a88667d",
   "metadata": {},
   "source": [
    "## Destination\n",
    "- Since the majority (68%) of passengers are heading towards TRAPPIST-1e, we'll just impute this value (i.e. the mode). \n",
    "- A better rule hasn't been found at this stage."
   ]
  },
  {
   "cell_type": "code",
   "execution_count": 77,
   "id": "b464ee03",
   "metadata": {},
   "outputs": [
    {
     "name": "stdout",
     "output_type": "stream",
     "text": [
      "#Destination missing values before: 274\n",
      "#Destination missing values after: 0\n"
     ]
    }
   ],
   "source": [
    "# Missing values before\n",
    "D_bef=data['Destination'].isna().sum()\n",
    "\n",
    "# Fill missing Destination values with mode\n",
    "data.loc[(data['Destination'].isna()), 'Destination']='TRAPPIST-1e'\n",
    "\n",
    "# Print number of missing values left\n",
    "print('#Destination missing values before:',D_bef)\n",
    "print('#Destination missing values after:',data['Destination'].isna().sum())"
   ]
  },
  {
   "cell_type": "markdown",
   "id": "021b5863",
   "metadata": {},
   "source": [
    "## Surname and group\n",
    "- The reason we are filling missing surnames is because we will use surnames later to fill missing values of other features.\n",
    "- It also means we can improve the accuracy of the family size feature."
   ]
  },
  {
   "cell_type": "code",
   "execution_count": 78,
   "id": "df4d6690",
   "metadata": {},
   "outputs": [
    {
     "data": {
      "text/plain": [
       "Text(0.5, 1.0, 'Number of unique surnames by group')"
      ]
     },
     "execution_count": 78,
     "metadata": {},
     "output_type": "execute_result"
    },
    {
     "data": {
      "image/png": "[encoded data removed]",
      "text/plain": [
       "<Figure size 720x288 with 1 Axes>"
      ]
     },
     "metadata": {},
     "output_type": "display_data"
    }
   ],
   "source": [
    "# Joint distribution of Group and Surname\n",
    "GSN_gb=data[data['Group_size']>1].groupby(['Group','Surname'])['Surname'].size().unstack().fillna(0)\n",
    "\n",
    "# Countplot of unique values\n",
    "plt.figure(figsize=(10,4))\n",
    "sns.countplot((GSN_gb>0).sum(axis=1))\n",
    "plt.title('Number of unique surnames by group')"
   ]
  },
  {
   "cell_type": "markdown",
   "id": "9842afc7",
   "metadata": {},
   "source": [
    "#### Notes: \n",
    "- The majority (83%) of groups contain only 1 family. \n",
    "- So let's fill missing surnames according to the majority surname in that group."
   ]
  },
  {
   "cell_type": "code",
   "execution_count": 79,
   "id": "ae83c007",
   "metadata": {},
   "outputs": [
    {
     "name": "stdout",
     "output_type": "stream",
     "text": [
      "#Surname missing values before: 294\n",
      "#Surname missing values after: 155\n"
     ]
    }
   ],
   "source": [
    "# Missing values before\n",
    "SN_bef=data['Surname'].isna().sum()\n",
    "\n",
    "# Passengers with missing Surname and in a group with known majority Surname\n",
    "GSN_index=data[data['Surname'].isna()][(data[data['Surname'].isna()]['Group']).isin(GSN_gb.index)].index\n",
    "\n",
    "# Fill corresponding missing values\n",
    "data.loc[GSN_index,'Surname']=data.iloc[GSN_index,:]['Group'].map(lambda x: GSN_gb.idxmax(axis=1)[x])\n",
    "\n",
    "# Print number of missing values left\n",
    "print('#Surname missing values before:',SN_bef)\n",
    "print('#Surname missing values after:',data['Surname'].isna().sum())"
   ]
  },
  {
   "cell_type": "markdown",
   "id": "21447792",
   "metadata": {},
   "source": [
    "#### Notes:\n",
    "- That is the best we can do. We don't have to get rid of all of these missing values because we will end up dropping the surname feature anyway. \n",
    "- However, we can update the family size feature."
   ]
  },
  {
   "cell_type": "code",
   "execution_count": 80,
   "id": "d3e8e7b3",
   "metadata": {},
   "outputs": [],
   "source": [
    "# Replace NaN's with outliers (so we can use map)\n",
    "data['Surname'].fillna('Unknown', inplace=True)\n",
    "\n",
    "# Update family size feature\n",
    "data['Family_size']=data['Surname'].map(lambda x: data['Surname'].value_counts()[x])\n",
    "\n",
    "# Put NaN's back in place of outliers\n",
    "data.loc[data['Surname']=='Unknown','Surname']=np.nan\n",
    "\n",
    "# Say unknown surname means no family\n",
    "data.loc[data['Family_size']>100,'Family_size']=0"
   ]
  },
  {
   "cell_type": "markdown",
   "id": "f0f59dcd",
   "metadata": {},
   "source": [
    "## CabinSide"
   ]
  },
  {
   "cell_type": "markdown",
   "id": "61773dc0",
   "metadata": {},
   "source": [
    "### CabinSide and Group"
   ]
  },
  {
   "cell_type": "code",
   "execution_count": 81,
   "id": "30a89258",
   "metadata": {},
   "outputs": [
    {
     "data": {
      "image/png": "[encoded data removed]",
      "text/plain": [
       "<Figure size 1152x288 with 3 Axes>"
      ]
     },
     "metadata": {},
     "output_type": "display_data"
    }
   ],
   "source": [
    "# Joint distribution of Group and Cabin features\n",
    "GCD_gb=data[data['Group_size']>1].groupby(['Group','Cabin_deck'])['Cabin_deck'].size().unstack().fillna(0)\n",
    "GCN_gb=data[data['Group_size']>1].groupby(['Group','Cabin_number'])['Cabin_number'].size().unstack().fillna(0)\n",
    "GCS_gb=data[data['Group_size']>1].groupby(['Group','Cabin_side'])['Cabin_side'].size().unstack().fillna(0)\n",
    "\n",
    "# Countplots\n",
    "fig=plt.figure(figsize=(16,4))\n",
    "plt.subplot(1,3,1)\n",
    "sns.countplot((GCD_gb>0).sum(axis=1))\n",
    "plt.title('#Unique cabin decks per group')\n",
    "\n",
    "plt.subplot(1,3,2)\n",
    "sns.countplot((GCN_gb>0).sum(axis=1))\n",
    "plt.title('#Unique cabin numbers per group')\n",
    "\n",
    "plt.subplot(1,3,3)\n",
    "sns.countplot((GCS_gb>0).sum(axis=1))\n",
    "plt.title('#Unique cabin sides per group')\n",
    "fig.tight_layout()"
   ]
  },
  {
   "cell_type": "markdown",
   "id": "3c5075aa",
   "metadata": {},
   "source": [
    "#### Notes:\n",
    "- Everyone in the same group is also on the same cabin side. \n",
    "- For cabin deck and cabin number there is also a fairly good (but not perfect) correlation with group."
   ]
  },
  {
   "cell_type": "code",
   "execution_count": 82,
   "id": "576cf7e0",
   "metadata": {},
   "outputs": [
    {
     "name": "stdout",
     "output_type": "stream",
     "text": [
      "#Cabin_side missing values before: 299\n",
      "#Cabin_side missing values after: 162\n"
     ]
    }
   ],
   "source": [
    "# Missing values before\n",
    "CS_bef=data['Cabin_side'].isna().sum()\n",
    "\n",
    "# Passengers with missing Cabin side and in a group with known Cabin side\n",
    "GCS_index=data[data['Cabin_side'].isna()][(data[data['Cabin_side'].isna()]['Group']).isin(GCS_gb.index)].index\n",
    "\n",
    "# Fill corresponding missing values\n",
    "data.loc[GCS_index,'Cabin_side']=data.iloc[GCS_index,:]['Group'].map(lambda x: GCS_gb.idxmax(axis=1)[x])\n",
    "\n",
    "# Print number of missing values left\n",
    "print('#Cabin_side missing values before:',CS_bef)\n",
    "print('#Cabin_side missing values after:',data['Cabin_side'].isna().sum())"
   ]
  },
  {
   "cell_type": "markdown",
   "id": "7a531640",
   "metadata": {},
   "source": [
    "### CabinSide and Surname"
   ]
  },
  {
   "cell_type": "code",
   "execution_count": 83,
   "id": "ed9acb0f",
   "metadata": {},
   "outputs": [
    {
     "data": {
      "text/plain": [
       "Text(0.5, 1.0, 'Ratio of cabin side by surname')"
      ]
     },
     "execution_count": 83,
     "metadata": {},
     "output_type": "execute_result"
    },
    {
     "data": {
      "image/png": "[encoded data removed]",
      "text/plain": [
       "<Figure size 720x288 with 1 Axes>"
      ]
     },
     "metadata": {},
     "output_type": "display_data"
    }
   ],
   "source": [
    "# Joint distribution of Surname and Cabin side\n",
    "SCS_gb=data[data['Group_size']>1].groupby(['Surname','Cabin_side'])['Cabin_side'].size().unstack().fillna(0)\n",
    "\n",
    "# Ratio of sides\n",
    "SCS_gb['Ratio']=SCS_gb['P']/(SCS_gb['P']+SCS_gb['S'])\n",
    "\n",
    "# Histogram of ratio\n",
    "plt.figure(figsize=(10,4))\n",
    "sns.histplot(SCS_gb['Ratio'], kde=True, binwidth=0.05)\n",
    "plt.title('Ratio of cabin side by surname')"
   ]
  },
  {
   "cell_type": "code",
   "execution_count": 84,
   "id": "a67ffb70",
   "metadata": {},
   "outputs": [
    {
     "name": "stdout",
     "output_type": "stream",
     "text": [
      "Percentage of families all on the same cabin side: 76.7 %\n"
     ]
    },
    {
     "data": {
      "text/html": [
       "<div>\n",
       "<style scoped>\n",
       "    .dataframe tbody tr th:only-of-type {\n",
       "        vertical-align: middle;\n",
       "    }\n",
       "\n",
       "    .dataframe tbody tr th {\n",
       "        vertical-align: top;\n",
       "    }\n",
       "\n",
       "    .dataframe thead th {\n",
       "        text-align: right;\n",
       "    }\n",
       "</style>\n",
       "<table border=\"1\" class=\"dataframe\">\n",
       "  <thead>\n",
       "    <tr style=\"text-align: right;\">\n",
       "      <th>Cabin_side</th>\n",
       "      <th>P</th>\n",
       "      <th>S</th>\n",
       "      <th>Ratio</th>\n",
       "    </tr>\n",
       "    <tr>\n",
       "      <th>Surname</th>\n",
       "      <th></th>\n",
       "      <th></th>\n",
       "      <th></th>\n",
       "    </tr>\n",
       "  </thead>\n",
       "  <tbody>\n",
       "    <tr>\n",
       "      <th>Acobson</th>\n",
       "      <td>0.0</td>\n",
       "      <td>3.0</td>\n",
       "      <td>0.0</td>\n",
       "    </tr>\n",
       "    <tr>\n",
       "      <th>Acobsond</th>\n",
       "      <td>3.0</td>\n",
       "      <td>0.0</td>\n",
       "      <td>1.0</td>\n",
       "    </tr>\n",
       "    <tr>\n",
       "      <th>Adavisons</th>\n",
       "      <td>6.0</td>\n",
       "      <td>0.0</td>\n",
       "      <td>1.0</td>\n",
       "    </tr>\n",
       "    <tr>\n",
       "      <th>Admingried</th>\n",
       "      <td>0.0</td>\n",
       "      <td>4.0</td>\n",
       "      <td>0.0</td>\n",
       "    </tr>\n",
       "    <tr>\n",
       "      <th>Aginge</th>\n",
       "      <td>3.0</td>\n",
       "      <td>0.0</td>\n",
       "      <td>1.0</td>\n",
       "    </tr>\n",
       "  </tbody>\n",
       "</table>\n",
       "</div>"
      ],
      "text/plain": [
       "Cabin_side    P    S  Ratio\n",
       "Surname                    \n",
       "Acobson     0.0  3.0    0.0\n",
       "Acobsond    3.0  0.0    1.0\n",
       "Adavisons   6.0  0.0    1.0\n",
       "Admingried  0.0  4.0    0.0\n",
       "Aginge      3.0  0.0    1.0"
      ]
     },
     "execution_count": 84,
     "metadata": {},
     "output_type": "execute_result"
    }
   ],
   "source": [
    "# Print proportion\n",
    "print('Percentage of families all on the same cabin side:', 100*np.round((SCS_gb['Ratio'].isin([0,1])).sum()/len(SCS_gb),3),'%')\n",
    "\n",
    "# Another view of the same information\n",
    "SCS_gb.head()"
   ]
  },
  {
   "cell_type": "markdown",
   "id": "8d7e4930",
   "metadata": {},
   "source": [
    "#### Notes:\n",
    "- This shows that families tend to be on the same cabin side (and 77% of families are entirely on the same side)."
   ]
  },
  {
   "cell_type": "code",
   "execution_count": 85,
   "id": "e3a7ae33",
   "metadata": {},
   "outputs": [
    {
     "name": "stdout",
     "output_type": "stream",
     "text": [
      "#Cabin_side missing values before: 162\n",
      "#Cabin_side missing values after: 66\n"
     ]
    }
   ],
   "source": [
    "# Missing values before\n",
    "CS_bef=data['Cabin_side'].isna().sum()\n",
    "\n",
    "# Drop ratio column\n",
    "SCS_gb.drop('Ratio', axis=1, inplace=True)\n",
    "\n",
    "# Passengers with missing Cabin side and in a family with known Cabin side\n",
    "SCS_index=data[data['Cabin_side'].isna()][(data[data['Cabin_side'].isna()]['Surname']).isin(SCS_gb.index)].index\n",
    "\n",
    "# Fill corresponding missing values\n",
    "data.loc[SCS_index,'Cabin_side']=data.iloc[SCS_index,:]['Surname'].map(lambda x: SCS_gb.idxmax(axis=1)[x])\n",
    "\n",
    "# Drop surname (we don't need it anymore)\n",
    "data.drop('Surname', axis=1, inplace=True)\n",
    "\n",
    "# Print number of missing values left\n",
    "print('#Cabin_side missing values before:',CS_bef)\n",
    "print('#Cabin_side missing values after:',data['Cabin_side'].isna().sum())"
   ]
  },
  {
   "cell_type": "markdown",
   "id": "2efe5030",
   "metadata": {},
   "source": [
    "#### Notes:\n",
    "- The remaining missing values will be replaced with an outlier. This is because we really don't know which one of the two (balanced) sides we should assign."
   ]
  },
  {
   "cell_type": "code",
   "execution_count": 86,
   "id": "ccc17e46",
   "metadata": {},
   "outputs": [
    {
     "data": {
      "text/plain": [
       "S    6504\n",
       "P    6400\n",
       "Name: Cabin_side, dtype: int64"
      ]
     },
     "execution_count": 86,
     "metadata": {},
     "output_type": "execute_result"
    }
   ],
   "source": [
    "# Value counts\n",
    "data['Cabin_side'].value_counts()"
   ]
  },
  {
   "cell_type": "code",
   "execution_count": 87,
   "id": "1921b601",
   "metadata": {},
   "outputs": [
    {
     "name": "stdout",
     "output_type": "stream",
     "text": [
      "#Cabin_side missing values before: 66\n",
      "#Cabin_side missing values after: 0\n"
     ]
    }
   ],
   "source": [
    "# Missing values before\n",
    "CS_bef=data['Cabin_side'].isna().sum()\n",
    "\n",
    "# Fill remaining missing values with outlier\n",
    "data.loc[data['Cabin_side'].isna(),'Cabin_side']='Z'\n",
    "\n",
    "# Print number of missing values left\n",
    "print('#Cabin_side missing values before:',CS_bef)\n",
    "print('#Cabin_side missing values after:',data['Cabin_side'].isna().sum())"
   ]
  },
  {
   "cell_type": "markdown",
   "id": "901d2139",
   "metadata": {},
   "source": [
    "## CabinDeck"
   ]
  },
  {
   "cell_type": "markdown",
   "id": "a8101ea7",
   "metadata": {},
   "source": [
    "### CabinDeck and Group\n",
    "- Remember (from above) that groups tend to be on the same cabin deck."
   ]
  },
  {
   "cell_type": "code",
   "execution_count": 88,
   "id": "65b15bde",
   "metadata": {},
   "outputs": [
    {
     "name": "stdout",
     "output_type": "stream",
     "text": [
      "#Cabin_deck missing values before: 299\n",
      "#Cabin_deck missing values after: 162\n"
     ]
    }
   ],
   "source": [
    "# Missing values before\n",
    "CD_bef=data['Cabin_deck'].isna().sum()\n",
    "\n",
    "# Passengers with missing Cabin deck and in a group with known majority Cabin deck\n",
    "GCD_index=data[data['Cabin_deck'].isna()][(data[data['Cabin_deck'].isna()]['Group']).isin(GCD_gb.index)].index\n",
    "\n",
    "# Fill corresponding missing values\n",
    "data.loc[GCD_index,'Cabin_deck']=data.iloc[GCD_index,:]['Group'].map(lambda x: GCD_gb.idxmax(axis=1)[x])\n",
    "\n",
    "# Print number of missing values left\n",
    "print('#Cabin_deck missing values before:',CD_bef)\n",
    "print('#Cabin_deck missing values after:',data['Cabin_deck'].isna().sum())"
   ]
  },
  {
   "cell_type": "markdown",
   "id": "27190254",
   "metadata": {},
   "source": [
    "### CabinDeck and HomePlanet"
   ]
  },
  {
   "cell_type": "code",
   "execution_count": 89,
   "id": "5d3d599b",
   "metadata": {},
   "outputs": [
    {
     "data": {
      "text/html": [
       "<div>\n",
       "<style scoped>\n",
       "    .dataframe tbody tr th:only-of-type {\n",
       "        vertical-align: middle;\n",
       "    }\n",
       "\n",
       "    .dataframe tbody tr th {\n",
       "        vertical-align: top;\n",
       "    }\n",
       "\n",
       "    .dataframe thead th {\n",
       "        text-align: right;\n",
       "    }\n",
       "</style>\n",
       "<table border=\"1\" class=\"dataframe\">\n",
       "  <thead>\n",
       "    <tr style=\"text-align: right;\">\n",
       "      <th></th>\n",
       "      <th></th>\n",
       "      <th>Cabin_deck</th>\n",
       "      <th>A</th>\n",
       "      <th>B</th>\n",
       "      <th>C</th>\n",
       "      <th>D</th>\n",
       "      <th>E</th>\n",
       "      <th>F</th>\n",
       "      <th>G</th>\n",
       "      <th>T</th>\n",
       "    </tr>\n",
       "    <tr>\n",
       "      <th>HomePlanet</th>\n",
       "      <th>Destination</th>\n",
       "      <th>Solo</th>\n",
       "      <th></th>\n",
       "      <th></th>\n",
       "      <th></th>\n",
       "      <th></th>\n",
       "      <th></th>\n",
       "      <th></th>\n",
       "      <th></th>\n",
       "      <th></th>\n",
       "    </tr>\n",
       "  </thead>\n",
       "  <tbody>\n",
       "    <tr>\n",
       "      <th rowspan=\"6\" valign=\"top\">Earth</th>\n",
       "      <th rowspan=\"2\" valign=\"top\">55 Cancri e</th>\n",
       "      <th>0</th>\n",
       "      <td>0.0</td>\n",
       "      <td>0.0</td>\n",
       "      <td>0.0</td>\n",
       "      <td>0.0</td>\n",
       "      <td>20.0</td>\n",
       "      <td>90.0</td>\n",
       "      <td>272.0</td>\n",
       "      <td>0.0</td>\n",
       "    </tr>\n",
       "    <tr>\n",
       "      <th>1</th>\n",
       "      <td>0.0</td>\n",
       "      <td>0.0</td>\n",
       "      <td>0.0</td>\n",
       "      <td>0.0</td>\n",
       "      <td>47.0</td>\n",
       "      <td>289.0</td>\n",
       "      <td>269.0</td>\n",
       "      <td>0.0</td>\n",
       "    </tr>\n",
       "    <tr>\n",
       "      <th rowspan=\"2\" valign=\"top\">PSO J318.5-22</th>\n",
       "      <th>0</th>\n",
       "      <td>0.0</td>\n",
       "      <td>0.0</td>\n",
       "      <td>0.0</td>\n",
       "      <td>0.0</td>\n",
       "      <td>18.0</td>\n",
       "      <td>67.0</td>\n",
       "      <td>230.0</td>\n",
       "      <td>0.0</td>\n",
       "    </tr>\n",
       "    <tr>\n",
       "      <th>1</th>\n",
       "      <td>0.0</td>\n",
       "      <td>0.0</td>\n",
       "      <td>0.0</td>\n",
       "      <td>0.0</td>\n",
       "      <td>25.0</td>\n",
       "      <td>262.0</td>\n",
       "      <td>466.0</td>\n",
       "      <td>0.0</td>\n",
       "    </tr>\n",
       "    <tr>\n",
       "      <th rowspan=\"2\" valign=\"top\">TRAPPIST-1e</th>\n",
       "      <th>0</th>\n",
       "      <td>0.0</td>\n",
       "      <td>0.0</td>\n",
       "      <td>0.0</td>\n",
       "      <td>0.0</td>\n",
       "      <td>133.0</td>\n",
       "      <td>438.0</td>\n",
       "      <td>1075.0</td>\n",
       "      <td>0.0</td>\n",
       "    </tr>\n",
       "    <tr>\n",
       "      <th>1</th>\n",
       "      <td>0.0</td>\n",
       "      <td>0.0</td>\n",
       "      <td>0.0</td>\n",
       "      <td>0.0</td>\n",
       "      <td>358.0</td>\n",
       "      <td>1350.0</td>\n",
       "      <td>1509.0</td>\n",
       "      <td>0.0</td>\n",
       "    </tr>\n",
       "    <tr>\n",
       "      <th rowspan=\"6\" valign=\"top\">Europa</th>\n",
       "      <th rowspan=\"2\" valign=\"top\">55 Cancri e</th>\n",
       "      <th>0</th>\n",
       "      <td>96.0</td>\n",
       "      <td>377.0</td>\n",
       "      <td>313.0</td>\n",
       "      <td>59.0</td>\n",
       "      <td>35.0</td>\n",
       "      <td>0.0</td>\n",
       "      <td>0.0</td>\n",
       "      <td>2.0</td>\n",
       "    </tr>\n",
       "    <tr>\n",
       "      <th>1</th>\n",
       "      <td>67.0</td>\n",
       "      <td>141.0</td>\n",
       "      <td>159.0</td>\n",
       "      <td>46.0</td>\n",
       "      <td>34.0</td>\n",
       "      <td>0.0</td>\n",
       "      <td>0.0</td>\n",
       "      <td>0.0</td>\n",
       "    </tr>\n",
       "    <tr>\n",
       "      <th rowspan=\"2\" valign=\"top\">PSO J318.5-22</th>\n",
       "      <th>0</th>\n",
       "      <td>2.0</td>\n",
       "      <td>5.0</td>\n",
       "      <td>11.0</td>\n",
       "      <td>0.0</td>\n",
       "      <td>0.0</td>\n",
       "      <td>0.0</td>\n",
       "      <td>0.0</td>\n",
       "      <td>0.0</td>\n",
       "    </tr>\n",
       "    <tr>\n",
       "      <th>1</th>\n",
       "      <td>0.0</td>\n",
       "      <td>0.0</td>\n",
       "      <td>10.0</td>\n",
       "      <td>0.0</td>\n",
       "      <td>0.0</td>\n",
       "      <td>0.0</td>\n",
       "      <td>0.0</td>\n",
       "      <td>0.0</td>\n",
       "    </tr>\n",
       "    <tr>\n",
       "      <th rowspan=\"2\" valign=\"top\">TRAPPIST-1e</th>\n",
       "      <th>0</th>\n",
       "      <td>152.0</td>\n",
       "      <td>459.0</td>\n",
       "      <td>428.0</td>\n",
       "      <td>120.0</td>\n",
       "      <td>53.0</td>\n",
       "      <td>0.0</td>\n",
       "      <td>0.0</td>\n",
       "      <td>1.0</td>\n",
       "    </tr>\n",
       "    <tr>\n",
       "      <th>1</th>\n",
       "      <td>44.0</td>\n",
       "      <td>179.0</td>\n",
       "      <td>201.0</td>\n",
       "      <td>84.0</td>\n",
       "      <td>82.0</td>\n",
       "      <td>0.0</td>\n",
       "      <td>0.0</td>\n",
       "      <td>8.0</td>\n",
       "    </tr>\n",
       "    <tr>\n",
       "      <th rowspan=\"6\" valign=\"top\">Mars</th>\n",
       "      <th rowspan=\"2\" valign=\"top\">55 Cancri e</th>\n",
       "      <th>0</th>\n",
       "      <td>0.0</td>\n",
       "      <td>0.0</td>\n",
       "      <td>0.0</td>\n",
       "      <td>32.0</td>\n",
       "      <td>15.0</td>\n",
       "      <td>104.0</td>\n",
       "      <td>0.0</td>\n",
       "      <td>0.0</td>\n",
       "    </tr>\n",
       "    <tr>\n",
       "      <th>1</th>\n",
       "      <td>0.0</td>\n",
       "      <td>0.0</td>\n",
       "      <td>0.0</td>\n",
       "      <td>40.0</td>\n",
       "      <td>16.0</td>\n",
       "      <td>92.0</td>\n",
       "      <td>0.0</td>\n",
       "      <td>0.0</td>\n",
       "    </tr>\n",
       "    <tr>\n",
       "      <th rowspan=\"2\" valign=\"top\">PSO J318.5-22</th>\n",
       "      <th>0</th>\n",
       "      <td>0.0</td>\n",
       "      <td>0.0</td>\n",
       "      <td>0.0</td>\n",
       "      <td>8.0</td>\n",
       "      <td>9.0</td>\n",
       "      <td>14.0</td>\n",
       "      <td>0.0</td>\n",
       "      <td>0.0</td>\n",
       "    </tr>\n",
       "    <tr>\n",
       "      <th>1</th>\n",
       "      <td>0.0</td>\n",
       "      <td>0.0</td>\n",
       "      <td>0.0</td>\n",
       "      <td>9.0</td>\n",
       "      <td>7.0</td>\n",
       "      <td>21.0</td>\n",
       "      <td>0.0</td>\n",
       "      <td>0.0</td>\n",
       "    </tr>\n",
       "    <tr>\n",
       "      <th rowspan=\"2\" valign=\"top\">TRAPPIST-1e</th>\n",
       "      <th>0</th>\n",
       "      <td>0.0</td>\n",
       "      <td>0.0</td>\n",
       "      <td>0.0</td>\n",
       "      <td>168.0</td>\n",
       "      <td>219.0</td>\n",
       "      <td>798.0</td>\n",
       "      <td>0.0</td>\n",
       "      <td>0.0</td>\n",
       "    </tr>\n",
       "    <tr>\n",
       "      <th>1</th>\n",
       "      <td>0.0</td>\n",
       "      <td>0.0</td>\n",
       "      <td>0.0</td>\n",
       "      <td>164.0</td>\n",
       "      <td>263.0</td>\n",
       "      <td>743.0</td>\n",
       "      <td>0.0</td>\n",
       "      <td>0.0</td>\n",
       "    </tr>\n",
       "  </tbody>\n",
       "</table>\n",
       "</div>"
      ],
      "text/plain": [
       "Cabin_deck                         A      B      C      D      E       F  \\\n",
       "HomePlanet Destination   Solo                                              \n",
       "Earth      55 Cancri e   0       0.0    0.0    0.0    0.0   20.0    90.0   \n",
       "                         1       0.0    0.0    0.0    0.0   47.0   289.0   \n",
       "           PSO J318.5-22 0       0.0    0.0    0.0    0.0   18.0    67.0   \n",
       "                         1       0.0    0.0    0.0    0.0   25.0   262.0   \n",
       "           TRAPPIST-1e   0       0.0    0.0    0.0    0.0  133.0   438.0   \n",
       "                         1       0.0    0.0    0.0    0.0  358.0  1350.0   \n",
       "Europa     55 Cancri e   0      96.0  377.0  313.0   59.0   35.0     0.0   \n",
       "                         1      67.0  141.0  159.0   46.0   34.0     0.0   \n",
       "           PSO J318.5-22 0       2.0    5.0   11.0    0.0    0.0     0.0   \n",
       "                         1       0.0    0.0   10.0    0.0    0.0     0.0   \n",
       "           TRAPPIST-1e   0     152.0  459.0  428.0  120.0   53.0     0.0   \n",
       "                         1      44.0  179.0  201.0   84.0   82.0     0.0   \n",
       "Mars       55 Cancri e   0       0.0    0.0    0.0   32.0   15.0   104.0   \n",
       "                         1       0.0    0.0    0.0   40.0   16.0    92.0   \n",
       "           PSO J318.5-22 0       0.0    0.0    0.0    8.0    9.0    14.0   \n",
       "                         1       0.0    0.0    0.0    9.0    7.0    21.0   \n",
       "           TRAPPIST-1e   0       0.0    0.0    0.0  168.0  219.0   798.0   \n",
       "                         1       0.0    0.0    0.0  164.0  263.0   743.0   \n",
       "\n",
       "Cabin_deck                          G    T  \n",
       "HomePlanet Destination   Solo               \n",
       "Earth      55 Cancri e   0      272.0  0.0  \n",
       "                         1      269.0  0.0  \n",
       "           PSO J318.5-22 0      230.0  0.0  \n",
       "                         1      466.0  0.0  \n",
       "           TRAPPIST-1e   0     1075.0  0.0  \n",
       "                         1     1509.0  0.0  \n",
       "Europa     55 Cancri e   0        0.0  2.0  \n",
       "                         1        0.0  0.0  \n",
       "           PSO J318.5-22 0        0.0  0.0  \n",
       "                         1        0.0  0.0  \n",
       "           TRAPPIST-1e   0        0.0  1.0  \n",
       "                         1        0.0  8.0  \n",
       "Mars       55 Cancri e   0        0.0  0.0  \n",
       "                         1        0.0  0.0  \n",
       "           PSO J318.5-22 0        0.0  0.0  \n",
       "                         1        0.0  0.0  \n",
       "           TRAPPIST-1e   0        0.0  0.0  \n",
       "                         1        0.0  0.0  "
      ]
     },
     "execution_count": 89,
     "metadata": {},
     "output_type": "execute_result"
    }
   ],
   "source": [
    "# Joint distribution\n",
    "data.groupby(['HomePlanet','Destination','Solo','Cabin_deck'])['Cabin_deck'].size().unstack().fillna(0)"
   ]
  },
  {
   "cell_type": "markdown",
   "id": "1e78ba89",
   "metadata": {},
   "source": [
    "#### Notes:\n",
    "- Passengers from Mars are most likely in deck F.\n",
    "- Passengers from Europa are (more or less) most likely in deck C if travelling solo and deck B otherwise.\n",
    "- Passengers from Earth are (more or less) most likely in deck G.\n",
    "\n",
    "#### Insighs:\n",
    "- We will fill in missing values according to where the mode appears in these subgroups."
   ]
  },
  {
   "cell_type": "code",
   "execution_count": 90,
   "id": "405ed096",
   "metadata": {},
   "outputs": [
    {
     "name": "stdout",
     "output_type": "stream",
     "text": [
      "#Cabin_deck missing values before: 162\n",
      "#Cabin_deck missing values after: 0\n"
     ]
    }
   ],
   "source": [
    "# Missing values before\n",
    "CD_bef=data['Cabin_deck'].isna().sum()\n",
    "\n",
    "# Fill missing values using the mode\n",
    "na_rows_CD=data.loc[data['Cabin_deck'].isna(),'Cabin_deck'].index\n",
    "data.loc[data['Cabin_deck'].isna(),'Cabin_deck']=data.groupby(['HomePlanet','Destination','Solo'])['Cabin_deck'].transform(lambda x: x.fillna(pd.Series.mode(x)[0]))[na_rows_CD]\n",
    "\n",
    "# Print number of missing values left\n",
    "print('#Cabin_deck missing values before:',CD_bef)\n",
    "print('#Cabin_deck missing values after:',data['Cabin_deck'].isna().sum())"
   ]
  },
  {
   "cell_type": "markdown",
   "id": "da4bd3fa",
   "metadata": {},
   "source": [
    "### CabinNumber and CabinDeck"
   ]
  },
  {
   "cell_type": "code",
   "execution_count": 91,
   "id": "2d9b830f",
   "metadata": {},
   "outputs": [
    {
     "data": {
      "text/plain": [
       "Text(0.5, 1.0, 'Cabin_number vs group coloured by group')"
      ]
     },
     "execution_count": 91,
     "metadata": {},
     "output_type": "execute_result"
    },
    {
     "data": {
      "image/png": "[encoded data removed]",
      "text/plain": [
       "<Figure size 720x288 with 1 Axes>"
      ]
     },
     "metadata": {},
     "output_type": "display_data"
    }
   ],
   "source": [
    "# Scatterplot\n",
    "plt.figure(figsize=(10,4))\n",
    "sns.scatterplot(x=data['Cabin_number'], y=data['Group'], c=LabelEncoder().fit_transform(data.loc[~data['Cabin_number'].isna(),'Cabin_deck']), cmap='tab10')\n",
    "plt.title('Cabin_number vs group coloured by group')"
   ]
  },
  {
   "cell_type": "markdown",
   "id": "b56a9de6",
   "metadata": {},
   "source": [
    "#### Notes: \n",
    "- The cabin_number and group_number share a linear relationship on a deck by deck basis. \n",
    "- We can therefore extrapolate the missing cabin numbers using linear regression on a deck by deck basis to get an approximate cabin number."
   ]
  },
  {
   "cell_type": "code",
   "execution_count": 92,
   "id": "5fad7c53",
   "metadata": {},
   "outputs": [
    {
     "name": "stdout",
     "output_type": "stream",
     "text": [
      "#Cabin_number missing values before: 299\n",
      "#Cabin_number missing values after: 0\n"
     ]
    }
   ],
   "source": [
    "# Missing values before\n",
    "CN_bef=data['Cabin_number'].isna().sum()\n",
    "\n",
    "# Extrapolate linear relationship on a deck by deck basis\n",
    "for deck in ['A', 'B', 'C', 'D', 'E', 'F', 'G']:\n",
    "    # Features and labels\n",
    "    X_CN=data.loc[~(data['Cabin_number'].isna()) & (data['Cabin_deck']==deck),'Group']\n",
    "    y_CN=data.loc[~(data['Cabin_number'].isna()) & (data['Cabin_deck']==deck),'Cabin_number']\n",
    "    X_test_CN=data.loc[(data['Cabin_number'].isna()) & (data['Cabin_deck']==deck),'Group']\n",
    "\n",
    "    # Linear regression\n",
    "    model_CN=LinearRegression()\n",
    "    model_CN.fit(X_CN.values.reshape(-1, 1), y_CN)\n",
    "    preds_CN=model_CN.predict(X_test_CN.values.reshape(-1, 1))\n",
    "    \n",
    "    # Fill missing values with predictions\n",
    "    data.loc[(data['Cabin_number'].isna()) & (data['Cabin_deck']==deck),'Cabin_number']=preds_CN.astype(int)\n",
    "\n",
    "# Print number of missing values left\n",
    "print('#Cabin_number missing values before:',CN_bef)\n",
    "print('#Cabin_number missing values after:',data['Cabin_number'].isna().sum())"
   ]
  },
  {
   "cell_type": "markdown",
   "id": "35168c3c",
   "metadata": {},
   "source": [
    "**Let's update the cabin regions with the new data**"
   ]
  },
  {
   "cell_type": "markdown",
   "id": "ff0bb15a",
   "metadata": {},
   "source": [
    "### VIP\n",
    "- VIP is a highly unbalanced binary feature so we will just impute the mode."
   ]
  },
  {
   "cell_type": "code",
   "execution_count": 93,
   "id": "820a2501",
   "metadata": {},
   "outputs": [
    {
     "data": {
      "text/plain": [
       "False    12401\n",
       "True       273\n",
       "Name: VIP, dtype: int64"
      ]
     },
     "execution_count": 93,
     "metadata": {},
     "output_type": "execute_result"
    }
   ],
   "source": [
    "data['VIP'].value_counts()"
   ]
  },
  {
   "cell_type": "code",
   "execution_count": 94,
   "id": "1fbccba0",
   "metadata": {},
   "outputs": [
    {
     "name": "stdout",
     "output_type": "stream",
     "text": [
      "#VIP missing values before: 296\n",
      "#VIP missing values after: 0\n"
     ]
    }
   ],
   "source": [
    "# Missing values before\n",
    "V_bef=data['VIP'].isna().sum()\n",
    "\n",
    "# Fill missing values with mode\n",
    "data.loc[data['VIP'].isna(),'VIP']=False\n",
    "\n",
    "# Print number of missing values left\n",
    "print('#VIP missing values before:',V_bef)\n",
    "print('#VIP missing values after:',data['VIP'].isna().sum())"
   ]
  },
  {
   "cell_type": "markdown",
   "id": "9676d6ae",
   "metadata": {},
   "source": [
    "## Age\n",
    "- Age varies across many features like HomePlanet, group size, expenditure and cabin deck, so we will impute missing values according to the median of these subgroups."
   ]
  },
  {
   "cell_type": "code",
   "execution_count": 95,
   "id": "496a76e7",
   "metadata": {},
   "outputs": [
    {
     "data": {
      "text/html": [
       "<div>\n",
       "<style scoped>\n",
       "    .dataframe tbody tr th:only-of-type {\n",
       "        vertical-align: middle;\n",
       "    }\n",
       "\n",
       "    .dataframe tbody tr th {\n",
       "        vertical-align: top;\n",
       "    }\n",
       "\n",
       "    .dataframe thead th {\n",
       "        text-align: right;\n",
       "    }\n",
       "</style>\n",
       "<table border=\"1\" class=\"dataframe\">\n",
       "  <thead>\n",
       "    <tr style=\"text-align: right;\">\n",
       "      <th></th>\n",
       "      <th></th>\n",
       "      <th>Cabin_deck</th>\n",
       "      <th>A</th>\n",
       "      <th>B</th>\n",
       "      <th>C</th>\n",
       "      <th>D</th>\n",
       "      <th>E</th>\n",
       "      <th>F</th>\n",
       "      <th>G</th>\n",
       "      <th>T</th>\n",
       "    </tr>\n",
       "    <tr>\n",
       "      <th>HomePlanet</th>\n",
       "      <th>No_spending</th>\n",
       "      <th>Solo</th>\n",
       "      <th></th>\n",
       "      <th></th>\n",
       "      <th></th>\n",
       "      <th></th>\n",
       "      <th></th>\n",
       "      <th></th>\n",
       "      <th></th>\n",
       "      <th></th>\n",
       "    </tr>\n",
       "  </thead>\n",
       "  <tbody>\n",
       "    <tr>\n",
       "      <th rowspan=\"4\" valign=\"top\">Earth</th>\n",
       "      <th rowspan=\"2\" valign=\"top\">0</th>\n",
       "      <th>0</th>\n",
       "      <td>0.0</td>\n",
       "      <td>0.0</td>\n",
       "      <td>0.0</td>\n",
       "      <td>0.0</td>\n",
       "      <td>24.0</td>\n",
       "      <td>25.0</td>\n",
       "      <td>28.0</td>\n",
       "      <td>0.0</td>\n",
       "    </tr>\n",
       "    <tr>\n",
       "      <th>1</th>\n",
       "      <td>0.0</td>\n",
       "      <td>0.0</td>\n",
       "      <td>0.0</td>\n",
       "      <td>0.0</td>\n",
       "      <td>25.0</td>\n",
       "      <td>24.0</td>\n",
       "      <td>26.0</td>\n",
       "      <td>0.0</td>\n",
       "    </tr>\n",
       "    <tr>\n",
       "      <th rowspan=\"2\" valign=\"top\">1</th>\n",
       "      <th>0</th>\n",
       "      <td>0.0</td>\n",
       "      <td>0.0</td>\n",
       "      <td>0.0</td>\n",
       "      <td>0.0</td>\n",
       "      <td>7.0</td>\n",
       "      <td>16.0</td>\n",
       "      <td>8.0</td>\n",
       "      <td>0.0</td>\n",
       "    </tr>\n",
       "    <tr>\n",
       "      <th>1</th>\n",
       "      <td>0.0</td>\n",
       "      <td>0.0</td>\n",
       "      <td>0.0</td>\n",
       "      <td>0.0</td>\n",
       "      <td>21.0</td>\n",
       "      <td>21.5</td>\n",
       "      <td>23.0</td>\n",
       "      <td>0.0</td>\n",
       "    </tr>\n",
       "    <tr>\n",
       "      <th rowspan=\"4\" valign=\"top\">Europa</th>\n",
       "      <th rowspan=\"2\" valign=\"top\">0</th>\n",
       "      <th>0</th>\n",
       "      <td>35.0</td>\n",
       "      <td>34.0</td>\n",
       "      <td>33.0</td>\n",
       "      <td>33.0</td>\n",
       "      <td>34.0</td>\n",
       "      <td>0.0</td>\n",
       "      <td>0.0</td>\n",
       "      <td>44.0</td>\n",
       "    </tr>\n",
       "    <tr>\n",
       "      <th>1</th>\n",
       "      <td>35.0</td>\n",
       "      <td>36.0</td>\n",
       "      <td>35.5</td>\n",
       "      <td>34.0</td>\n",
       "      <td>35.0</td>\n",
       "      <td>0.0</td>\n",
       "      <td>0.0</td>\n",
       "      <td>35.0</td>\n",
       "    </tr>\n",
       "    <tr>\n",
       "      <th rowspan=\"2\" valign=\"top\">1</th>\n",
       "      <th>0</th>\n",
       "      <td>30.0</td>\n",
       "      <td>27.0</td>\n",
       "      <td>28.5</td>\n",
       "      <td>27.0</td>\n",
       "      <td>28.0</td>\n",
       "      <td>0.0</td>\n",
       "      <td>0.0</td>\n",
       "      <td>0.0</td>\n",
       "    </tr>\n",
       "    <tr>\n",
       "      <th>1</th>\n",
       "      <td>37.5</td>\n",
       "      <td>34.0</td>\n",
       "      <td>35.0</td>\n",
       "      <td>31.0</td>\n",
       "      <td>33.0</td>\n",
       "      <td>0.0</td>\n",
       "      <td>0.0</td>\n",
       "      <td>0.0</td>\n",
       "    </tr>\n",
       "    <tr>\n",
       "      <th rowspan=\"4\" valign=\"top\">Mars</th>\n",
       "      <th rowspan=\"2\" valign=\"top\">0</th>\n",
       "      <th>0</th>\n",
       "      <td>0.0</td>\n",
       "      <td>0.0</td>\n",
       "      <td>0.0</td>\n",
       "      <td>30.0</td>\n",
       "      <td>29.0</td>\n",
       "      <td>29.0</td>\n",
       "      <td>0.0</td>\n",
       "      <td>0.0</td>\n",
       "    </tr>\n",
       "    <tr>\n",
       "      <th>1</th>\n",
       "      <td>0.0</td>\n",
       "      <td>0.0</td>\n",
       "      <td>0.0</td>\n",
       "      <td>31.0</td>\n",
       "      <td>28.5</td>\n",
       "      <td>30.0</td>\n",
       "      <td>0.0</td>\n",
       "      <td>0.0</td>\n",
       "    </tr>\n",
       "    <tr>\n",
       "      <th rowspan=\"2\" valign=\"top\">1</th>\n",
       "      <th>0</th>\n",
       "      <td>0.0</td>\n",
       "      <td>0.0</td>\n",
       "      <td>0.0</td>\n",
       "      <td>29.5</td>\n",
       "      <td>26.0</td>\n",
       "      <td>18.0</td>\n",
       "      <td>0.0</td>\n",
       "      <td>0.0</td>\n",
       "    </tr>\n",
       "    <tr>\n",
       "      <th>1</th>\n",
       "      <td>0.0</td>\n",
       "      <td>0.0</td>\n",
       "      <td>0.0</td>\n",
       "      <td>33.0</td>\n",
       "      <td>30.0</td>\n",
       "      <td>29.5</td>\n",
       "      <td>0.0</td>\n",
       "      <td>0.0</td>\n",
       "    </tr>\n",
       "  </tbody>\n",
       "</table>\n",
       "</div>"
      ],
      "text/plain": [
       "Cabin_deck                      A     B     C     D     E     F     G     T\n",
       "HomePlanet No_spending Solo                                                \n",
       "Earth      0           0      0.0   0.0   0.0   0.0  24.0  25.0  28.0   0.0\n",
       "                       1      0.0   0.0   0.0   0.0  25.0  24.0  26.0   0.0\n",
       "           1           0      0.0   0.0   0.0   0.0   7.0  16.0   8.0   0.0\n",
       "                       1      0.0   0.0   0.0   0.0  21.0  21.5  23.0   0.0\n",
       "Europa     0           0     35.0  34.0  33.0  33.0  34.0   0.0   0.0  44.0\n",
       "                       1     35.0  36.0  35.5  34.0  35.0   0.0   0.0  35.0\n",
       "           1           0     30.0  27.0  28.5  27.0  28.0   0.0   0.0   0.0\n",
       "                       1     37.5  34.0  35.0  31.0  33.0   0.0   0.0   0.0\n",
       "Mars       0           0      0.0   0.0   0.0  30.0  29.0  29.0   0.0   0.0\n",
       "                       1      0.0   0.0   0.0  31.0  28.5  30.0   0.0   0.0\n",
       "           1           0      0.0   0.0   0.0  29.5  26.0  18.0   0.0   0.0\n",
       "                       1      0.0   0.0   0.0  33.0  30.0  29.5   0.0   0.0"
      ]
     },
     "execution_count": 95,
     "metadata": {},
     "output_type": "execute_result"
    }
   ],
   "source": [
    "# Joint distribution\n",
    "data.groupby(['HomePlanet','No_spending','Solo','Cabin_deck'])['Age'].median().unstack().fillna(0)"
   ]
  },
  {
   "cell_type": "code",
   "execution_count": 96,
   "id": "65bc6c74",
   "metadata": {},
   "outputs": [
    {
     "name": "stdout",
     "output_type": "stream",
     "text": [
      "#Age missing values before: 1410\n",
      "#Age missing values after: 0\n"
     ]
    }
   ],
   "source": [
    "# Missing values before\n",
    "A_bef=data[exp_feats].isna().sum().sum()\n",
    "\n",
    "# Fill missing values using the median\n",
    "na_rows_A=data.loc[data['Age'].isna(),'Age'].index\n",
    "data.loc[data['Age'].isna(),'Age']=data.groupby(['HomePlanet','No_spending','Solo','Cabin_deck'])['Age'].transform(lambda x: x.fillna(x.median()))[na_rows_A]\n",
    "\n",
    "# Print number of missing values left\n",
    "print('#Age missing values before:',A_bef)\n",
    "print('#Age missing values after:',data['Age'].isna().sum())"
   ]
  },
  {
   "cell_type": "markdown",
   "id": "17181fc1",
   "metadata": {},
   "source": [
    "**Let's update the age_group feature using the new data.**"
   ]
  },
  {
   "cell_type": "code",
   "execution_count": 97,
   "id": "a5ca4b01",
   "metadata": {},
   "outputs": [],
   "source": [
    "# Update age group feature\n",
    "data.loc[data['Age']<=12,'Age_group']='Age_0-12'\n",
    "data.loc[(data['Age']>12) & (data['Age']<18),'Age_group']='Age_13-17'\n",
    "data.loc[(data['Age']>=18) & (data['Age']<=25),'Age_group']='Age_18-25'\n",
    "data.loc[(data['Age']>25) & (data['Age']<=30),'Age_group']='Age_26-30'\n",
    "data.loc[(data['Age']>30) & (data['Age']<=50),'Age_group']='Age_31-50'\n",
    "data.loc[data['Age']>50,'Age_group']='Age_51+'"
   ]
  },
  {
   "cell_type": "markdown",
   "id": "2572a583",
   "metadata": {},
   "source": [
    "### CryoSleep\n",
    "- The best way to predict if a passenger is in CryoSleep or not is to see if they spent anything."
   ]
  },
  {
   "cell_type": "code",
   "execution_count": 98,
   "id": "30de7b74",
   "metadata": {},
   "outputs": [
    {
     "data": {
      "text/html": [
       "<div>\n",
       "<style scoped>\n",
       "    .dataframe tbody tr th:only-of-type {\n",
       "        vertical-align: middle;\n",
       "    }\n",
       "\n",
       "    .dataframe tbody tr th {\n",
       "        vertical-align: top;\n",
       "    }\n",
       "\n",
       "    .dataframe thead th {\n",
       "        text-align: right;\n",
       "    }\n",
       "</style>\n",
       "<table border=\"1\" class=\"dataframe\">\n",
       "  <thead>\n",
       "    <tr style=\"text-align: right;\">\n",
       "      <th>CryoSleep</th>\n",
       "      <th>False</th>\n",
       "      <th>True</th>\n",
       "    </tr>\n",
       "    <tr>\n",
       "      <th>No_spending</th>\n",
       "      <th></th>\n",
       "      <th></th>\n",
       "    </tr>\n",
       "  </thead>\n",
       "  <tbody>\n",
       "    <tr>\n",
       "      <th>0</th>\n",
       "      <td>7339.0</td>\n",
       "      <td>0.0</td>\n",
       "    </tr>\n",
       "    <tr>\n",
       "      <th>1</th>\n",
       "      <td>740.0</td>\n",
       "      <td>4581.0</td>\n",
       "    </tr>\n",
       "  </tbody>\n",
       "</table>\n",
       "</div>"
      ],
      "text/plain": [
       "CryoSleep     False    True\n",
       "No_spending                \n",
       "0            7339.0     0.0\n",
       "1             740.0  4581.0"
      ]
     },
     "execution_count": 98,
     "metadata": {},
     "output_type": "execute_result"
    }
   ],
   "source": [
    "# Joint distribution\n",
    "data.groupby(['No_spending','CryoSleep'])['CryoSleep'].size().unstack().fillna(0)"
   ]
  },
  {
   "cell_type": "code",
   "execution_count": 99,
   "id": "f209c40d",
   "metadata": {},
   "outputs": [
    {
     "name": "stdout",
     "output_type": "stream",
     "text": [
      "#CryoSleep missing values before: 310\n",
      "#CryoSleep missing values after: 0\n"
     ]
    }
   ],
   "source": [
    "# Missing values before\n",
    "CSL_bef=data['CryoSleep'].isna().sum()\n",
    "\n",
    "# Fill missing values using the mode\n",
    "na_rows_CSL=data.loc[data['CryoSleep'].isna(),'CryoSleep'].index\n",
    "data.loc[data['CryoSleep'].isna(),'CryoSleep']=data.groupby(['No_spending'])['CryoSleep'].transform(lambda x: x.fillna(pd.Series.mode(x)[0]))[na_rows_CSL]\n",
    "\n",
    "# Print number of missing values left\n",
    "print('#CryoSleep missing values before:',CSL_bef)\n",
    "print('#CryoSleep missing values after:',data['CryoSleep'].isna().sum())"
   ]
  },
  {
   "cell_type": "markdown",
   "id": "711d821e",
   "metadata": {},
   "source": [
    "### Expenditure and CryoSleep\n",
    "- This one makes a lot of sense. \n",
    "- We don't expect people in CryoSleep to be able to spend anything."
   ]
  },
  {
   "cell_type": "code",
   "execution_count": 100,
   "id": "21c7eb8b",
   "metadata": {},
   "outputs": [
    {
     "name": "stdout",
     "output_type": "stream",
     "text": [
      "Maximum expenditure of passengers in CryoSleep: 0.0\n"
     ]
    }
   ],
   "source": [
    "print('Maximum expenditure of passengers in CryoSleep:',data.loc[data['CryoSleep']==True,exp_feats].sum(axis=1).max())"
   ]
  },
  {
   "cell_type": "code",
   "execution_count": 101,
   "id": "857c0b4a",
   "metadata": {},
   "outputs": [
    {
     "name": "stdout",
     "output_type": "stream",
     "text": [
      "#Expenditure missing values before: 1410\n",
      "#Expenditure missing values after: 866\n"
     ]
    }
   ],
   "source": [
    "# Missing values before\n",
    "E_bef=data[exp_feats].isna().sum().sum()\n",
    "\n",
    "# CryoSleep has no expenditure\n",
    "for col in exp_feats:\n",
    "    data.loc[(data[col].isna()) & (data['CryoSleep']==True), col]=0\n",
    "\n",
    "# Print number of missing values left\n",
    "print('#Expenditure missing values before:',E_bef)\n",
    "print('#Expenditure missing values after:',data[exp_feats].isna().sum().sum())"
   ]
  },
  {
   "cell_type": "markdown",
   "id": "2e20518a",
   "metadata": {},
   "source": [
    "### Expenditure and others\n",
    "- Expenditure varies across many features but we will only impute missing values using HomePlanet, Solo and Age group to prevent overfitting. \n",
    "\n",
    "- We will also use the mean instead of the median because a large proportion of passengers don't spend anything and median usually comes out as 0. Note how under 12's don't spend anything."
   ]
  },
  {
   "cell_type": "code",
   "execution_count": 102,
   "id": "883d7c76",
   "metadata": {},
   "outputs": [
    {
     "data": {
      "text/html": [
       "<div>\n",
       "<style scoped>\n",
       "    .dataframe tbody tr th:only-of-type {\n",
       "        vertical-align: middle;\n",
       "    }\n",
       "\n",
       "    .dataframe tbody tr th {\n",
       "        vertical-align: top;\n",
       "    }\n",
       "\n",
       "    .dataframe thead th {\n",
       "        text-align: right;\n",
       "    }\n",
       "</style>\n",
       "<table border=\"1\" class=\"dataframe\">\n",
       "  <thead>\n",
       "    <tr style=\"text-align: right;\">\n",
       "      <th></th>\n",
       "      <th>Age_group</th>\n",
       "      <th>Age_0-12</th>\n",
       "      <th>Age_13-17</th>\n",
       "      <th>Age_18-25</th>\n",
       "      <th>Age_26-30</th>\n",
       "      <th>Age_31-50</th>\n",
       "      <th>Age_51+</th>\n",
       "    </tr>\n",
       "    <tr>\n",
       "      <th>HomePlanet</th>\n",
       "      <th>Solo</th>\n",
       "      <th></th>\n",
       "      <th></th>\n",
       "      <th></th>\n",
       "      <th></th>\n",
       "      <th></th>\n",
       "      <th></th>\n",
       "    </tr>\n",
       "  </thead>\n",
       "  <tbody>\n",
       "    <tr>\n",
       "      <th rowspan=\"2\" valign=\"top\">Earth</th>\n",
       "      <th>0</th>\n",
       "      <td>0.0</td>\n",
       "      <td>724.902222</td>\n",
       "      <td>789.700555</td>\n",
       "      <td>841.093596</td>\n",
       "      <td>736.655773</td>\n",
       "      <td>733.649573</td>\n",
       "    </tr>\n",
       "    <tr>\n",
       "      <th>1</th>\n",
       "      <td>0.0</td>\n",
       "      <td>693.014898</td>\n",
       "      <td>779.395942</td>\n",
       "      <td>795.420690</td>\n",
       "      <td>794.818627</td>\n",
       "      <td>826.366972</td>\n",
       "    </tr>\n",
       "    <tr>\n",
       "      <th rowspan=\"2\" valign=\"top\">Europa</th>\n",
       "      <th>0</th>\n",
       "      <td>0.0</td>\n",
       "      <td>1153.160256</td>\n",
       "      <td>2652.013298</td>\n",
       "      <td>3534.668246</td>\n",
       "      <td>3975.774005</td>\n",
       "      <td>3483.639004</td>\n",
       "    </tr>\n",
       "    <tr>\n",
       "      <th>1</th>\n",
       "      <td>0.0</td>\n",
       "      <td>0.000000</td>\n",
       "      <td>2489.888889</td>\n",
       "      <td>3806.000000</td>\n",
       "      <td>3949.939929</td>\n",
       "      <td>3952.085526</td>\n",
       "    </tr>\n",
       "    <tr>\n",
       "      <th rowspan=\"2\" valign=\"top\">Mars</th>\n",
       "      <th>0</th>\n",
       "      <td>0.0</td>\n",
       "      <td>1176.839286</td>\n",
       "      <td>1161.808333</td>\n",
       "      <td>1247.098361</td>\n",
       "      <td>1143.671916</td>\n",
       "      <td>1345.419643</td>\n",
       "    </tr>\n",
       "    <tr>\n",
       "      <th>1</th>\n",
       "      <td>0.0</td>\n",
       "      <td>1687.261538</td>\n",
       "      <td>1075.341146</td>\n",
       "      <td>1107.122677</td>\n",
       "      <td>1110.392045</td>\n",
       "      <td>1100.298387</td>\n",
       "    </tr>\n",
       "  </tbody>\n",
       "</table>\n",
       "</div>"
      ],
      "text/plain": [
       "Age_group        Age_0-12    Age_13-17    Age_18-25    Age_26-30    Age_31-50  \\\n",
       "HomePlanet Solo                                                                 \n",
       "Earth      0          0.0   724.902222   789.700555   841.093596   736.655773   \n",
       "           1          0.0   693.014898   779.395942   795.420690   794.818627   \n",
       "Europa     0          0.0  1153.160256  2652.013298  3534.668246  3975.774005   \n",
       "           1          0.0     0.000000  2489.888889  3806.000000  3949.939929   \n",
       "Mars       0          0.0  1176.839286  1161.808333  1247.098361  1143.671916   \n",
       "           1          0.0  1687.261538  1075.341146  1107.122677  1110.392045   \n",
       "\n",
       "Age_group            Age_51+  \n",
       "HomePlanet Solo               \n",
       "Earth      0      733.649573  \n",
       "           1      826.366972  \n",
       "Europa     0     3483.639004  \n",
       "           1     3952.085526  \n",
       "Mars       0     1345.419643  \n",
       "           1     1100.298387  "
      ]
     },
     "execution_count": 102,
     "metadata": {},
     "output_type": "execute_result"
    }
   ],
   "source": [
    "# Joint distribution\n",
    "data.groupby(['HomePlanet','Solo','Age_group'])['Expenditure'].mean().unstack().fillna(0)"
   ]
  },
  {
   "cell_type": "code",
   "execution_count": 103,
   "id": "334c6ec5",
   "metadata": {},
   "outputs": [
    {
     "name": "stdout",
     "output_type": "stream",
     "text": [
      "#Expenditure missing values before: 866\n",
      "#Expenditure missing values after: 0\n"
     ]
    }
   ],
   "source": [
    "# Missing values before\n",
    "E_bef=data[exp_feats].isna().sum().sum()\n",
    "\n",
    "# Fill remaining missing values using the median\n",
    "for col in exp_feats:\n",
    "    na_rows=data.loc[data[col].isna(),col].index\n",
    "    data.loc[data[col].isna(),col]=data.groupby(['HomePlanet','Solo','Age_group'])[col].transform(lambda x: x.fillna(x.mean()))[na_rows]\n",
    "    \n",
    "# Print number of missing values left\n",
    "print('#Expenditure missing values before:',E_bef)\n",
    "print('#Expenditure missing values after:',data[exp_feats].isna().sum().sum())"
   ]
  },
  {
   "cell_type": "markdown",
   "id": "71412356",
   "metadata": {},
   "source": [
    "**Finally, we can update the expenditure and no_spending features with these new data points.**"
   ]
  },
  {
   "cell_type": "code",
   "execution_count": 104,
   "id": "a115d9be",
   "metadata": {},
   "outputs": [],
   "source": [
    "# Update expenditure and no_spending\n",
    "data['Expenditure']=data[exp_feats].sum(axis=1)\n",
    "data['No_spending']=(data['Expenditure']==0).astype(int)"
   ]
  },
  {
   "cell_type": "code",
   "execution_count": 105,
   "id": "0cc3a55f",
   "metadata": {},
   "outputs": [
    {
     "data": {
      "text/plain": [
       "PassengerId      0\n",
       "HomePlanet       0\n",
       "CryoSleep        0\n",
       "Destination      0\n",
       "Age              0\n",
       "VIP              0\n",
       "RoomService      0\n",
       "FoodCourt        0\n",
       "ShoppingMall     0\n",
       "Spa              0\n",
       "VRDeck           0\n",
       "Age_group        0\n",
       "Expenditure      0\n",
       "No_spending      0\n",
       "Group            0\n",
       "Group_size       0\n",
       "Solo             0\n",
       "Cabin_deck       0\n",
       "Cabin_number     0\n",
       "Cabin_side       0\n",
       "Cabin_region1    0\n",
       "Cabin_region2    0\n",
       "Cabin_region3    0\n",
       "Cabin_region4    0\n",
       "Cabin_region5    0\n",
       "Cabin_region6    0\n",
       "Cabin_region7    0\n",
       "Family_size      0\n",
       "dtype: int64"
      ]
     },
     "execution_count": 105,
     "metadata": {},
     "output_type": "execute_result"
    }
   ],
   "source": [
    "data.isna().sum()"
   ]
  },
  {
   "cell_type": "markdown",
   "id": "5a1825a8",
   "metadata": {},
   "source": [
    "**No missing values left!**"
   ]
  },
  {
   "cell_type": "markdown",
   "id": "1542ca14",
   "metadata": {},
   "source": [
    "\n",
    "\n",
    "# [Go_to_Part_4](https://github.com/NicolasKlaver/Project_Titanic_Spaceship/blob/main/Spaceship_Titanic_P4.ipynb)"
   ]
  }
 ],
 "metadata": {
  "kernelspec": {
   "display_name": "Python 3 (ipykernel)",
   "language": "python",
   "name": "python3"
  },
  "language_info": {
   "codemirror_mode": {
    "name": "ipython",
    "version": 3
   },
   "file_extension": ".py",
   "mimetype": "text/x-python",
   "name": "python",
   "nbconvert_exporter": "python",
   "pygments_lexer": "ipython3",
   "version": "3.9.12"
  }
 },
 "nbformat": 4,
 "nbformat_minor": 5
}
